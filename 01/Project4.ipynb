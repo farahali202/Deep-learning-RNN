{
 "cells": [
  {
   "cell_type": "code",
   "execution_count": 1,
   "id": "028b89bf",
   "metadata": {},
   "outputs": [],
   "source": [
    "import pandas as pd\n",
    "from sklearn.feature_extraction.text import CountVectorizer\n",
    "from keras.preprocessing.text import Tokenizer\n",
    "from keras.preprocessing.sequence import pad_sequences\n",
    "from keras.models import Sequential\n",
    "from keras.layers import Dense, Embedding, LSTM, SpatialDropout1D\n",
    "from sklearn.model_selection import train_test_split  \n",
    "from keras.utils import to_categorical\n",
    "import re\n",
    "import warnings\n",
    "warnings.simplefilter(\"ignore\", category=DeprecationWarning)\n",
    "warnings.resetwarnings()"
   ]
  },
  {
   "cell_type": "code",
   "execution_count": 2,
   "id": "30293ad1",
   "metadata": {},
   "outputs": [],
   "source": [
    "#read data\n",
    "df=pd.read_csv('Twitter_Data.csv')"
   ]
  },
  {
   "cell_type": "code",
   "execution_count": 3,
   "id": "423f31c7",
   "metadata": {},
   "outputs": [
    {
     "data": {
      "text/html": [
       "<div>\n",
       "<style scoped>\n",
       "    .dataframe tbody tr th:only-of-type {\n",
       "        vertical-align: middle;\n",
       "    }\n",
       "\n",
       "    .dataframe tbody tr th {\n",
       "        vertical-align: top;\n",
       "    }\n",
       "\n",
       "    .dataframe thead th {\n",
       "        text-align: right;\n",
       "    }\n",
       "</style>\n",
       "<table border=\"1\" class=\"dataframe\">\n",
       "  <thead>\n",
       "    <tr style=\"text-align: right;\">\n",
       "      <th></th>\n",
       "      <th>clean_text</th>\n",
       "      <th>category</th>\n",
       "    </tr>\n",
       "  </thead>\n",
       "  <tbody>\n",
       "    <tr>\n",
       "      <th>0</th>\n",
       "      <td>when modi promised “minimum government maximum...</td>\n",
       "      <td>-1.0</td>\n",
       "    </tr>\n",
       "    <tr>\n",
       "      <th>1</th>\n",
       "      <td>talk all the nonsense and continue all the dra...</td>\n",
       "      <td>0.0</td>\n",
       "    </tr>\n",
       "    <tr>\n",
       "      <th>2</th>\n",
       "      <td>what did just say vote for modi  welcome bjp t...</td>\n",
       "      <td>1.0</td>\n",
       "    </tr>\n",
       "    <tr>\n",
       "      <th>3</th>\n",
       "      <td>asking his supporters prefix chowkidar their n...</td>\n",
       "      <td>1.0</td>\n",
       "    </tr>\n",
       "    <tr>\n",
       "      <th>4</th>\n",
       "      <td>answer who among these the most powerful world...</td>\n",
       "      <td>1.0</td>\n",
       "    </tr>\n",
       "    <tr>\n",
       "      <th>...</th>\n",
       "      <td>...</td>\n",
       "      <td>...</td>\n",
       "    </tr>\n",
       "    <tr>\n",
       "      <th>162975</th>\n",
       "      <td>why these 456 crores paid neerav modi not reco...</td>\n",
       "      <td>-1.0</td>\n",
       "    </tr>\n",
       "    <tr>\n",
       "      <th>162976</th>\n",
       "      <td>dear rss terrorist payal gawar what about modi...</td>\n",
       "      <td>-1.0</td>\n",
       "    </tr>\n",
       "    <tr>\n",
       "      <th>162977</th>\n",
       "      <td>did you cover her interaction forum where she ...</td>\n",
       "      <td>0.0</td>\n",
       "    </tr>\n",
       "    <tr>\n",
       "      <th>162978</th>\n",
       "      <td>there big project came into india modi dream p...</td>\n",
       "      <td>0.0</td>\n",
       "    </tr>\n",
       "    <tr>\n",
       "      <th>162979</th>\n",
       "      <td>have you ever listen about like gurukul where ...</td>\n",
       "      <td>1.0</td>\n",
       "    </tr>\n",
       "  </tbody>\n",
       "</table>\n",
       "<p>162980 rows × 2 columns</p>\n",
       "</div>"
      ],
      "text/plain": [
       "                                               clean_text  category\n",
       "0       when modi promised “minimum government maximum...      -1.0\n",
       "1       talk all the nonsense and continue all the dra...       0.0\n",
       "2       what did just say vote for modi  welcome bjp t...       1.0\n",
       "3       asking his supporters prefix chowkidar their n...       1.0\n",
       "4       answer who among these the most powerful world...       1.0\n",
       "...                                                   ...       ...\n",
       "162975  why these 456 crores paid neerav modi not reco...      -1.0\n",
       "162976  dear rss terrorist payal gawar what about modi...      -1.0\n",
       "162977  did you cover her interaction forum where she ...       0.0\n",
       "162978  there big project came into india modi dream p...       0.0\n",
       "162979  have you ever listen about like gurukul where ...       1.0\n",
       "\n",
       "[162980 rows x 2 columns]"
      ]
     },
     "execution_count": 3,
     "metadata": {},
     "output_type": "execute_result"
    }
   ],
   "source": [
    "df"
   ]
  },
  {
   "cell_type": "code",
   "execution_count": 4,
   "id": "030deff2",
   "metadata": {},
   "outputs": [],
   "source": [
    "# Removing category=0 (neutrality)\n",
    "df=df[df.category!=0]"
   ]
  },
  {
   "cell_type": "code",
   "execution_count": 5,
   "id": "972c6438",
   "metadata": {},
   "outputs": [
    {
     "data": {
      "text/html": [
       "<div>\n",
       "<style scoped>\n",
       "    .dataframe tbody tr th:only-of-type {\n",
       "        vertical-align: middle;\n",
       "    }\n",
       "\n",
       "    .dataframe tbody tr th {\n",
       "        vertical-align: top;\n",
       "    }\n",
       "\n",
       "    .dataframe thead th {\n",
       "        text-align: right;\n",
       "    }\n",
       "</style>\n",
       "<table border=\"1\" class=\"dataframe\">\n",
       "  <thead>\n",
       "    <tr style=\"text-align: right;\">\n",
       "      <th></th>\n",
       "      <th>clean_text</th>\n",
       "      <th>category</th>\n",
       "    </tr>\n",
       "  </thead>\n",
       "  <tbody>\n",
       "    <tr>\n",
       "      <th>0</th>\n",
       "      <td>when modi promised “minimum government maximum...</td>\n",
       "      <td>-1.0</td>\n",
       "    </tr>\n",
       "    <tr>\n",
       "      <th>2</th>\n",
       "      <td>what did just say vote for modi  welcome bjp t...</td>\n",
       "      <td>1.0</td>\n",
       "    </tr>\n",
       "    <tr>\n",
       "      <th>3</th>\n",
       "      <td>asking his supporters prefix chowkidar their n...</td>\n",
       "      <td>1.0</td>\n",
       "    </tr>\n",
       "    <tr>\n",
       "      <th>4</th>\n",
       "      <td>answer who among these the most powerful world...</td>\n",
       "      <td>1.0</td>\n",
       "    </tr>\n",
       "    <tr>\n",
       "      <th>8</th>\n",
       "      <td>with upcoming election india saga going import...</td>\n",
       "      <td>1.0</td>\n",
       "    </tr>\n",
       "    <tr>\n",
       "      <th>...</th>\n",
       "      <td>...</td>\n",
       "      <td>...</td>\n",
       "    </tr>\n",
       "    <tr>\n",
       "      <th>162972</th>\n",
       "      <td>engine growth modi unveils indias first 12000 ...</td>\n",
       "      <td>1.0</td>\n",
       "    </tr>\n",
       "    <tr>\n",
       "      <th>162973</th>\n",
       "      <td>modi promised 2014 lok sabha elections that be...</td>\n",
       "      <td>1.0</td>\n",
       "    </tr>\n",
       "    <tr>\n",
       "      <th>162975</th>\n",
       "      <td>why these 456 crores paid neerav modi not reco...</td>\n",
       "      <td>-1.0</td>\n",
       "    </tr>\n",
       "    <tr>\n",
       "      <th>162976</th>\n",
       "      <td>dear rss terrorist payal gawar what about modi...</td>\n",
       "      <td>-1.0</td>\n",
       "    </tr>\n",
       "    <tr>\n",
       "      <th>162979</th>\n",
       "      <td>have you ever listen about like gurukul where ...</td>\n",
       "      <td>1.0</td>\n",
       "    </tr>\n",
       "  </tbody>\n",
       "</table>\n",
       "<p>107767 rows × 2 columns</p>\n",
       "</div>"
      ],
      "text/plain": [
       "                                               clean_text  category\n",
       "0       when modi promised “minimum government maximum...      -1.0\n",
       "2       what did just say vote for modi  welcome bjp t...       1.0\n",
       "3       asking his supporters prefix chowkidar their n...       1.0\n",
       "4       answer who among these the most powerful world...       1.0\n",
       "8       with upcoming election india saga going import...       1.0\n",
       "...                                                   ...       ...\n",
       "162972  engine growth modi unveils indias first 12000 ...       1.0\n",
       "162973  modi promised 2014 lok sabha elections that be...       1.0\n",
       "162975  why these 456 crores paid neerav modi not reco...      -1.0\n",
       "162976  dear rss terrorist payal gawar what about modi...      -1.0\n",
       "162979  have you ever listen about like gurukul where ...       1.0\n",
       "\n",
       "[107767 rows x 2 columns]"
      ]
     },
     "execution_count": 5,
     "metadata": {},
     "output_type": "execute_result"
    }
   ],
   "source": [
    "df"
   ]
  },
  {
   "cell_type": "code",
   "execution_count": 6,
   "id": "a42f8d83",
   "metadata": {},
   "outputs": [
    {
     "name": "stderr",
     "output_type": "stream",
     "text": [
      "<>:2: DeprecationWarning: invalid escape sequence \\s\n",
      "<>:2: DeprecationWarning: invalid escape sequence \\s\n",
      "C:\\Users\\Farah\\AppData\\Local\\Temp\\ipykernel_11960\\3999792764.py:2: DeprecationWarning: invalid escape sequence \\s\n",
      "  df['clean_text']=df['clean_text'].apply((lambda x:re.sub('[^A-Za-z0-9\\s]','',x)))\n",
      "C:\\Users\\Farah\\AppData\\Local\\Temp\\ipykernel_11960\\3999792764.py:1: SettingWithCopyWarning: \n",
      "A value is trying to be set on a copy of a slice from a DataFrame.\n",
      "Try using .loc[row_indexer,col_indexer] = value instead\n",
      "\n",
      "See the caveats in the documentation: https://pandas.pydata.org/pandas-docs/stable/user_guide/indexing.html#returning-a-view-versus-a-copy\n",
      "  df['clean_text']=df['clean_text'].apply(lambda x: str(x).lower())\n",
      "C:\\Users\\Farah\\AppData\\Local\\Temp\\ipykernel_11960\\3999792764.py:2: SettingWithCopyWarning: \n",
      "A value is trying to be set on a copy of a slice from a DataFrame.\n",
      "Try using .loc[row_indexer,col_indexer] = value instead\n",
      "\n",
      "See the caveats in the documentation: https://pandas.pydata.org/pandas-docs/stable/user_guide/indexing.html#returning-a-view-versus-a-copy\n",
      "  df['clean_text']=df['clean_text'].apply((lambda x:re.sub('[^A-Za-z0-9\\s]','',x)))\n"
     ]
    }
   ],
   "source": [
    "df['clean_text']=df['clean_text'].apply(lambda x: str(x).lower())\n",
    "df['clean_text']=df['clean_text'].apply((lambda x:re.sub('[^A-Za-z0-9\\s]','',x)))"
   ]
  },
  {
   "cell_type": "code",
   "execution_count": 7,
   "id": "200788a6",
   "metadata": {},
   "outputs": [
    {
     "data": {
      "text/plain": [
       " 1.0    72250\n",
       "-1.0    35510\n",
       "Name: category, dtype: int64"
      ]
     },
     "execution_count": 7,
     "metadata": {},
     "output_type": "execute_result"
    }
   ],
   "source": [
    "df['category'].value_counts()"
   ]
  },
  {
   "cell_type": "code",
   "execution_count": 8,
   "id": "e194c645",
   "metadata": {},
   "outputs": [],
   "source": [
    "max_feature=2000\n",
    "tokenizer=Tokenizer(num_words=max_feature,split=' ')\n",
    "tokenizer.fit_on_texts(df['clean_text'].values)\n",
    "x=tokenizer.texts_to_sequences(df['clean_text'].values)"
   ]
  },
  {
   "cell_type": "code",
   "execution_count": 9,
   "id": "69c5de4a",
   "metadata": {},
   "outputs": [
    {
     "data": {
      "text/plain": [
       "47"
      ]
     },
     "execution_count": 9,
     "metadata": {},
     "output_type": "execute_result"
    }
   ],
   "source": [
    "x=pad_sequences(x)\n",
    "len(x[1])"
   ]
  },
  {
   "cell_type": "code",
   "execution_count": 10,
   "id": "9f1f0926",
   "metadata": {},
   "outputs": [
    {
     "data": {
      "text/plain": [
       "(107767, 2)"
      ]
     },
     "execution_count": 10,
     "metadata": {},
     "output_type": "execute_result"
    }
   ],
   "source": [
    "y=pd.get_dummies(df['category']).values\n",
    "y.shape"
   ]
  },
  {
   "cell_type": "markdown",
   "id": "106078e2",
   "metadata": {},
   "source": [
    "# Model Training"
   ]
  },
  {
   "cell_type": "code",
   "execution_count": 11,
   "id": "532d76f9",
   "metadata": {},
   "outputs": [
    {
     "name": "stdout",
     "output_type": "stream",
     "text": [
      "Model: \"sequential\"\n",
      "_________________________________________________________________\n",
      " Layer (type)                Output Shape              Param #   \n",
      "=================================================================\n",
      " embedding (Embedding)       (None, 47, 128)           256000    \n",
      "                                                                 \n",
      " spatial_dropout1d (Spatial  (None, 47, 128)           0         \n",
      " Dropout1D)                                                      \n",
      "                                                                 \n",
      " lstm (LSTM)                 (None, 196)               254800    \n",
      "                                                                 \n",
      " dense (Dense)               (None, 2)                 394       \n",
      "                                                                 \n",
      "=================================================================\n",
      "Total params: 511194 (1.95 MB)\n",
      "Trainable params: 511194 (1.95 MB)\n",
      "Non-trainable params: 0 (0.00 Byte)\n",
      "_________________________________________________________________\n",
      "None\n"
     ]
    }
   ],
   "source": [
    "embed_dim=128\n",
    "lstm_out=196\n",
    "model=Sequential()\n",
    "model.add(Embedding(max_feature,embed_dim,input_length=x.shape[1]))\n",
    "model.add(SpatialDropout1D(0.4))\n",
    "model.add(LSTM(lstm_out,dropout=0.2,recurrent_dropout=0.2))\n",
    "model.add(Dense(2,activation='softmax'))\n",
    "model.compile(loss='binary_crossentropy',optimizer='adam',metrics=['accuracy'])\n",
    "print(model.summary())"
   ]
  },
  {
   "cell_type": "code",
   "execution_count": 12,
   "id": "e34f4c81",
   "metadata": {},
   "outputs": [
    {
     "name": "stdout",
     "output_type": "stream",
     "text": [
      "Epoch 1/7\n",
      "2257/2257 [==============================] - 918s 403ms/step - loss: 0.2978 - accuracy: 0.8727\n",
      "Epoch 2/7\n",
      "2257/2257 [==============================] - 770s 341ms/step - loss: 0.2017 - accuracy: 0.9229\n",
      "Epoch 3/7\n",
      "2257/2257 [==============================] - 568s 252ms/step - loss: 0.1902 - accuracy: 0.9286\n",
      "Epoch 4/7\n",
      "2257/2257 [==============================] - 569s 252ms/step - loss: 0.1794 - accuracy: 0.9322\n",
      "Epoch 5/7\n",
      "2257/2257 [==============================] - 550s 244ms/step - loss: 0.1688 - accuracy: 0.9367\n",
      "Epoch 6/7\n",
      "2257/2257 [==============================] - 547s 242ms/step - loss: 0.1598 - accuracy: 0.9412\n",
      "Epoch 7/7\n",
      "2257/2257 [==============================] - 554s 246ms/step - loss: 0.1521 - accuracy: 0.9438\n"
     ]
    },
    {
     "data": {
      "text/plain": [
       "<keras.src.callbacks.History at 0x29ad0679700>"
      ]
     },
     "execution_count": 12,
     "metadata": {},
     "output_type": "execute_result"
    }
   ],
   "source": [
    "embed_dim=128\n",
    "lstm_out=196\n",
    "model=Sequential()\n",
    "model.add(Embedding(max_feature,embed_dim,input_length=x.shape[1]))\n",
    "model.add(SpatialDropout1D(0.4))\n",
    "model.add(LSTM(lstm_out,dropout=0.2,recurrent_dropout=0.2))\n",
    "model.add(Dense(2,activation='softmax'))\n",
    "model.compile(loss='binary_crossentropy',optimizer='adam',metrics=['accuracy'])\n",
    "x_train,x_test,y_train,y_test=train_test_split(x,y,test_size=0.33,random_state=42)\n",
    "batch_size=32\n",
    "model.fit(x_train,y_train,epochs=7,batch_size=batch_size,verbose=1)"
   ]
  },
  {
   "cell_type": "markdown",
   "id": "177bb959",
   "metadata": {},
   "source": [
    "# Evaluating model"
   ]
  },
  {
   "cell_type": "code",
   "execution_count": 13,
   "id": "bd2e2d74",
   "metadata": {},
   "outputs": [
    {
     "name": "stdout",
     "output_type": "stream",
     "text": [
      "1065/1065 - 54s - loss: 0.2082 - accuracy: 0.9267 - 54s/epoch - 51ms/step\n",
      "0.2081538736820221\n",
      "0.9267261624336243\n"
     ]
    }
   ],
   "source": [
    "batch_size=32\n",
    "validation_size=1500\n",
    "x_val=x_test[-validation_size:]\n",
    "y_val=y_test[-validation_size:]\n",
    "x_test=x_test[:-validation_size]\n",
    "y_test=y_test[:-validation_size]\n",
    "score,acc=model.evaluate(x_test,y_test,verbose=2,batch_size=batch_size)\n",
    "print(score)\n",
    "print(acc)"
   ]
  },
  {
   "cell_type": "code",
   "execution_count": null,
   "id": "a93f1eb4",
   "metadata": {},
   "outputs": [],
   "source": []
  },
  {
   "cell_type": "markdown",
   "id": "50ce7f75",
   "metadata": {},
   "source": [
    "# Testing model"
   ]
  },
  {
   "cell_type": "code",
   "execution_count": 34,
   "id": "8426d1b2",
   "metadata": {},
   "outputs": [
    {
     "name": "stdout",
     "output_type": "stream",
     "text": [
      "1/1 - 0s - 53ms/epoch - 53ms/step\n"
     ]
    }
   ],
   "source": [
    "ex1=[\"I absolutely loved the new movie! The plot was engaging, the characters were well-developed, and the ending was so satisfying. Can't wait to watch it again!\"]\n",
    "ex1=tokenizer.texts_to_sequences(ex1)\n",
    "ex1=pad_sequences(ex1,maxlen=47,dtype='int32',value=0)\n",
    "senti1=model.predict(ex1,batch_size=1,verbose=2)[0]\n"
   ]
  },
  {
   "cell_type": "code",
   "execution_count": 35,
   "id": "30c6b655",
   "metadata": {},
   "outputs": [
    {
     "name": "stdout",
     "output_type": "stream",
     "text": [
      "1/1 - 0s - 45ms/epoch - 45ms/step\n"
     ]
    }
   ],
   "source": [
    "ex2=[\"I was extremely disappointed with the service at the restaurant. The staff was rude, the food took forever to arrive, and when it did, it was cold. I won't be going back \"]\n",
    "ex2=tokenizer.texts_to_sequences(ex2)\n",
    "ex2=pad_sequences(ex2,maxlen=47,dtype='int32',value=0)\n",
    "senti2=model.predict(ex2,batch_size=1,verbose=2)[0]"
   ]
  },
  {
   "cell_type": "code",
   "execution_count": 37,
   "id": "a3946efd",
   "metadata": {},
   "outputs": [
    {
     "name": "stdout",
     "output_type": "stream",
     "text": [
      "positif\n"
     ]
    }
   ],
   "source": [
    "import numpy as np\n",
    "if(np.argmax(senti1)==0):\n",
    "    print('negatif')\n",
    "else:\n",
    "    print('positif')"
   ]
  },
  {
   "cell_type": "code",
   "execution_count": 38,
   "id": "ea7f1f38",
   "metadata": {},
   "outputs": [
    {
     "name": "stdout",
     "output_type": "stream",
     "text": [
      "negatif\n"
     ]
    }
   ],
   "source": [
    "import numpy as np\n",
    "if(np.argmax(senti2)==0):\n",
    "    print('negatif')\n",
    "else:\n",
    "    print('positif')"
   ]
  },
  {
   "cell_type": "code",
   "execution_count": null,
   "id": "1690898a",
   "metadata": {},
   "outputs": [],
   "source": []
  }
 ],
 "metadata": {
  "kernelspec": {
   "display_name": "Python 3 (ipykernel)",
   "language": "python",
   "name": "python3"
  },
  "language_info": {
   "codemirror_mode": {
    "name": "ipython",
    "version": 3
   },
   "file_extension": ".py",
   "mimetype": "text/x-python",
   "name": "python",
   "nbconvert_exporter": "python",
   "pygments_lexer": "ipython3",
   "version": "3.9.13"
  }
 },
 "nbformat": 4,
 "nbformat_minor": 5
}
